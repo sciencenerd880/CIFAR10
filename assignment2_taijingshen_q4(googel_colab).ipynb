{
  "nbformat": 4,
  "nbformat_minor": 0,
  "metadata": {
    "colab": {
      "provenance": [],
      "gpuType": "T4"
    },
    "kernelspec": {
      "name": "python3",
      "display_name": "Python 3"
    },
    "language_info": {
      "name": "python"
    },
    "accelerator": "GPU"
  },
  "cells": [
    {
      "cell_type": "code",
      "execution_count": 3,
      "metadata": {
        "id": "Z5yylhUil28q"
      },
      "outputs": [],
      "source": [
        "import tensorflow as tf\n",
        "from tensorflow.keras import models, layers, optimizers"
      ]
    },
    {
      "cell_type": "code",
      "source": [
        "def preprocess_data(X, Y, num_class=10):\n",
        "    \"\"\"\n",
        "    returns preprocessed data\n",
        "    by using the resnet50 preprocess_input function which normalizes the input data and\n",
        "    converts the labels to one-hot encoding using the to_categorical function with 10 classes\n",
        "    \"\"\"\n",
        "    #X_resized = tf.image.resize(X, (224, 224))\n",
        "    X_p = tf.keras.applications.resnet50.preprocess_input(X)\n",
        "    Y_p = tf.keras.utils.to_categorical(Y, num_class)\n",
        "    return X_p, Y_p"
      ],
      "metadata": {
        "id": "ix0vBFavl48F"
      },
      "execution_count": 4,
      "outputs": []
    },
    {
      "cell_type": "code",
      "source": [
        "# Load the CIFAR-10 dataset\n",
        "(X_train, Y_train), (X_test, Y_test) = tf.keras.datasets.cifar10.load_data()\n",
        "\n",
        "# preprocess data using the preprocess_data function\n",
        "#''''\n",
        "X_train_p, Y_train_p = preprocess_data(X_train, Y_train)\n",
        "X_test_p, Y_test_p = preprocess_data(X_test, Y_test)\n",
        "#'''"
      ],
      "metadata": {
        "colab": {
          "base_uri": "https://localhost:8080/"
        },
        "id": "4HbqkrWfmO3c",
        "outputId": "953e6c87-a692-4007-b13f-a2c755e5fab7"
      },
      "execution_count": 5,
      "outputs": [
        {
          "output_type": "stream",
          "name": "stdout",
          "text": [
            "Downloading data from https://www.cs.toronto.edu/~kriz/cifar-10-python.tar.gz\n",
            "170498071/170498071 [==============================] - 13s 0us/step\n"
          ]
        }
      ]
    },
    {
      "cell_type": "code",
      "source": [
        "# sanity check of the shape of the preprocessed data, datapoints statistics,\n",
        "# and labels if its turned into one-hot encoding\n",
        "print(X_train_p.shape, Y_train_p.shape)\n",
        "print(X_test_p.shape, Y_test_p.shape)\n",
        "print('number of classes:',num_class:=Y_train_p.shape[1])\n",
        "print('first 5 labels:\\n', Y_train_p[:5],'\\n')\n",
        "print('max, and min of the datapoints:', X_train_p.max(), X_train_p.min())"
      ],
      "metadata": {
        "colab": {
          "base_uri": "https://localhost:8080/"
        },
        "id": "ocU-Ae-GmQND",
        "outputId": "7208a3cb-28e2-4ccc-da5b-545e7de097e2"
      },
      "execution_count": 6,
      "outputs": [
        {
          "output_type": "stream",
          "name": "stdout",
          "text": [
            "(50000, 32, 32, 3) (50000, 10)\n",
            "(10000, 32, 32, 3) (10000, 10)\n",
            "number of classes: 10\n",
            "first 5 labels:\n",
            " [[0. 0. 0. 0. 0. 0. 1. 0. 0. 0.]\n",
            " [0. 0. 0. 0. 0. 0. 0. 0. 0. 1.]\n",
            " [0. 0. 0. 0. 0. 0. 0. 0. 0. 1.]\n",
            " [0. 0. 0. 0. 1. 0. 0. 0. 0. 0.]\n",
            " [0. 1. 0. 0. 0. 0. 0. 0. 0. 0.]] \n",
            "\n",
            "max, and min of the datapoints: 151.061 -123.68\n"
          ]
        }
      ]
    },
    {
      "cell_type": "code",
      "source": [
        "# Load ResNet50 model without the top layer\n",
        "base_model = tf.keras.applications.ResNet50(include_top=False, weights='imagenet', input_shape=(224, 224, 3))\n",
        "base_model.trainable = False  # Freeze ResNet50 layers"
      ],
      "metadata": {
        "colab": {
          "base_uri": "https://localhost:8080/"
        },
        "id": "FctWxZa5mZi1",
        "outputId": "59da45c9-3761-40f7-e578-c2a15eec79e4"
      },
      "execution_count": 7,
      "outputs": [
        {
          "output_type": "stream",
          "name": "stdout",
          "text": [
            "Downloading data from https://storage.googleapis.com/tensorflow/keras-applications/resnet/resnet50_weights_tf_dim_ordering_tf_kernels_notop.h5\n",
            "94765736/94765736 [==============================] - 5s 0us/step\n"
          ]
        }
      ]
    },
    {
      "cell_type": "code",
      "source": [
        "# Build the model\n",
        "model = models.Sequential([\n",
        "    # Upscale images\n",
        "    layers.experimental.preprocessing.Resizing(224, 224, interpolation=\"bilinear\"),\n",
        "    # Add the pre-trained ResNet50 base model\n",
        "    base_model,\n",
        "    # Add custom layers on top\n",
        "    layers.Flatten(),\n",
        "    layers.Dense(512, activation='relu'),\n",
        "    layers.Dropout(0.2),\n",
        "    layers.Dense(128, activation='relu'),\n",
        "    layers.Dropout(0.2),\n",
        "    layers.Dense(10, activation='softmax')  # For CIFAR-10 classes\n",
        "])"
      ],
      "metadata": {
        "id": "zwPywf8PmbHI"
      },
      "execution_count": 8,
      "outputs": []
    },
    {
      "cell_type": "code",
      "source": [
        "# Compile the model\n",
        "model.compile(optimizer=optimizers.SGD(lr=0.001),\n",
        "              loss='categorical_crossentropy',\n",
        "              metrics=['accuracy'])\n",
        "\n",
        "\n",
        "# Train the model\n",
        "# will just start small with 5 epochs\n",
        "model.fit(X_train, Y_train_p, batch_size=128, epochs=5,\n",
        "          validation_data=(X_test, Y_test_p))"
      ],
      "metadata": {
        "colab": {
          "base_uri": "https://localhost:8080/"
        },
        "id": "7Kr4KZGMmduo",
        "outputId": "f1af553e-3096-45ed-f048-024c6e22fef6"
      },
      "execution_count": 9,
      "outputs": [
        {
          "output_type": "stream",
          "name": "stderr",
          "text": [
            "WARNING:absl:`lr` is deprecated in Keras optimizer, please use `learning_rate` or use the legacy optimizer, e.g.,tf.keras.optimizers.legacy.SGD.\n"
          ]
        },
        {
          "output_type": "stream",
          "name": "stdout",
          "text": [
            "Epoch 1/5\n",
            "391/391 [==============================] - 194s 464ms/step - loss: 0.9557 - accuracy: 0.7312 - val_loss: 0.4907 - val_accuracy: 0.8352\n",
            "Epoch 2/5\n",
            "391/391 [==============================] - 184s 471ms/step - loss: 0.4359 - accuracy: 0.8529 - val_loss: 0.4059 - val_accuracy: 0.8607\n",
            "Epoch 3/5\n",
            "391/391 [==============================] - 187s 480ms/step - loss: 0.3198 - accuracy: 0.8914 - val_loss: 0.3880 - val_accuracy: 0.8713\n",
            "Epoch 4/5\n",
            "391/391 [==============================] - 188s 482ms/step - loss: 0.2382 - accuracy: 0.9182 - val_loss: 0.3985 - val_accuracy: 0.8717\n",
            "Epoch 5/5\n",
            "391/391 [==============================] - 192s 492ms/step - loss: 0.1844 - accuracy: 0.9374 - val_loss: 0.3987 - val_accuracy: 0.8782\n"
          ]
        },
        {
          "output_type": "execute_result",
          "data": {
            "text/plain": [
              "<keras.src.callbacks.History at 0x7e50e0171d20>"
            ]
          },
          "metadata": {},
          "execution_count": 9
        }
      ]
    },
    {
      "cell_type": "code",
      "source": [
        "# Build the model2; improved version by adding batch normalization to adjust the activations with a mean of 0 and std dev of 1\n",
        "# batch norm added AFTER activations. source:https://www.deeplearningbook.org/contents/optimization.html\n",
        "model2 = models.Sequential([\n",
        "    # Upscale images\n",
        "    layers.experimental.preprocessing.Resizing(224, 224, interpolation=\"bilinear\"),\n",
        "    base_model,\n",
        "    layers.BatchNormalization(),  # Add Batch Normalization after ResNet50\n",
        "    layers.Flatten(),\n",
        "    layers.Dense(512, activation='relu'),\n",
        "    layers.BatchNormalization(),  # Add Batch Normalization after the first Dense layer\n",
        "    layers.Dropout(0.2),\n",
        "    layers.Dense(128, activation='relu'),\n",
        "    layers.BatchNormalization(),  # Add Batch Normalization after the second Dense layer\n",
        "    layers.Dropout(0.2),\n",
        "    layers.Dense(10, activation='softmax')  # Output layer for CIFAR-10 classes\n",
        "])"
      ],
      "metadata": {
        "id": "0WWvlON8mkYt"
      },
      "execution_count": 19,
      "outputs": []
    },
    {
      "cell_type": "code",
      "source": [
        "# Compile the model\n",
        "# for SGD, learning rate decay is used to gradually reduces the learning rate during training,\n",
        "# allowing the model to fine-tune and adjust weights with greater precision as it approaches convergence\n",
        "optimizer2=tf.keras.optimizers.SGD(learning_rate=0.0001, momentum=0.9)\n",
        "model2.compile(optimizer=optimizer2,\n",
        "              loss='categorical_crossentropy',\n",
        "              metrics=['accuracy'])\n",
        "\n",
        "# Train the model\n",
        "model2.fit(X_train_p, Y_train_p, batch_size=128, epochs=5,\n",
        "          validation_data=(X_test_p, Y_test_p))"
      ],
      "metadata": {
        "colab": {
          "base_uri": "https://localhost:8080/"
        },
        "id": "2f7Ie10hrh--",
        "outputId": "69b3ec13-3a51-4ba6-b46f-29d0408ec091"
      },
      "execution_count": 20,
      "outputs": [
        {
          "output_type": "stream",
          "name": "stdout",
          "text": [
            "Epoch 1/5\n",
            "391/391 [==============================] - 204s 506ms/step - loss: 0.7420 - accuracy: 0.7579 - val_loss: 0.3960 - val_accuracy: 0.8698\n",
            "Epoch 2/5\n",
            "391/391 [==============================] - 182s 466ms/step - loss: 0.3616 - accuracy: 0.8826 - val_loss: 0.3480 - val_accuracy: 0.8865\n",
            "Epoch 3/5\n",
            "391/391 [==============================] - 195s 499ms/step - loss: 0.2818 - accuracy: 0.9105 - val_loss: 0.3231 - val_accuracy: 0.8954\n",
            "Epoch 4/5\n",
            "391/391 [==============================] - 184s 471ms/step - loss: 0.2285 - accuracy: 0.9307 - val_loss: 0.3087 - val_accuracy: 0.8991\n",
            "Epoch 5/5\n",
            "391/391 [==============================] - 195s 499ms/step - loss: 0.1915 - accuracy: 0.9433 - val_loss: 0.2990 - val_accuracy: 0.9015\n"
          ]
        },
        {
          "output_type": "execute_result",
          "data": {
            "text/plain": [
              "<keras.src.callbacks.History at 0x7e505025db40>"
            ]
          },
          "metadata": {},
          "execution_count": 20
        }
      ]
    },
    {
      "cell_type": "code",
      "source": [],
      "metadata": {
        "id": "3ZSRbk6YsP9e"
      },
      "execution_count": null,
      "outputs": []
    }
  ]
}