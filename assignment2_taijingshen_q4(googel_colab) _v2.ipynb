{
  "cells": [
    {
      "cell_type": "markdown",
      "metadata": {
        "id": "Iq6w0wbhNir1"
      },
      "source": [
        "# **[Question 4]  Leveraging a Pretrained Model for CIFAR-10 (10 marks)**\n",
        "\n",
        "\n",
        "> Objective: Use a pretrained model from TensorFlow's Keras applications  **as a feature extractor or for fine-tuning on the CIFAR-10 dataset**, and a**chieve >90% accuracy on the test dataset** of CIFAR-10."
      ]
    },
    {
      "cell_type": "code",
      "execution_count": 9,
      "metadata": {
        "id": "Z5yylhUil28q"
      },
      "outputs": [],
      "source": [
        "#import the libraries and packages needed\n",
        "import tensorflow as tf\n",
        "from tensorflow.keras import models, layers, optimizers\n",
        "from tensorflow.keras.callbacks import EarlyStopping, ModelCheckpoint\n",
        "\n",
        "import matplotlib.pyplot as plt\n",
        "import numpy as np\n"
      ]
    },
    {
      "cell_type": "markdown",
      "metadata": {
        "id": "fhT61BevNir5"
      },
      "source": [
        "> **Requirement**: Dataset Preparation: Load the CIFAR-10 dataset, applying normalization and any required preprocessing to match the input format of the pretrained model."
      ]
    },
    {
      "cell_type": "code",
      "execution_count": 10,
      "metadata": {
        "id": "ix0vBFavl48F"
      },
      "outputs": [],
      "source": [
        "def preprocess_data(X, Y, num_class=10):\n",
        "    \"\"\"\n",
        "    returns preprocessed data\n",
        "    by using the resnet50 preprocess_input function which normalizes the input data and\n",
        "    converts the labels to one-hot encoding using the to_categorical function with 10 classes\n",
        "    \"\"\"\n",
        "    X_p = tf.keras.applications.resnet50.preprocess_input(X)\n",
        "    #X_p = X.astype('float32') / 255.0\n",
        "    Y_p = tf.keras.utils.to_categorical(Y, num_class)\n",
        "    return X_p, Y_p\n",
        "\n",
        "def preprocess_data2(X, Y, num_class=10):\n",
        "    \"\"\"\n",
        "    Manually preprocesses the data by replicating the steps performed in the\n",
        "    resnet50 preprocess_input function which are:\n",
        "    - Convert RGB to BGR\n",
        "    - Subtract the mean value of each channel of the ImageNet dataset\n",
        "    \"\"\"\n",
        "    # Convert RGB to BGR\n",
        "    X_p = X[..., ::-1].astype('float32')\n",
        "\n",
        "    # Subtract ImageNet mean pixel value for each channel\n",
        "    # Refer to this https://stackoverflow.com/questions/44962433/image-preprocessing-of-finetune-in-resnet & https://towardsdatascience.com/preprocessing-layer-in-cnn-models-for-tf2-d471e61ddc2e\n",
        "    mean = [103.939, 116.779, 123.68]\n",
        "    X_p[..., 0] -= mean[0]\n",
        "    X_p[..., 1] -= mean[1]\n",
        "    X_p[..., 2] -= mean[2]\n",
        "\n",
        "    # Convert labels to one-hot encoding\n",
        "    Y_p = tf.keras.utils.to_categorical(Y, num_class)\n",
        "\n",
        "    return X_p, Y_p"
      ]
    },
    {
      "cell_type": "code",
      "execution_count": 11,
      "metadata": {
        "id": "4HbqkrWfmO3c"
      },
      "outputs": [],
      "source": [
        "# Load the CIFAR-10 dataset\n",
        "(X_train, Y_train), (X_test, Y_test) = tf.keras.datasets.cifar10.load_data()\n",
        "\n",
        "# preprocess data using the preprocess_data function\n",
        "#''''\n",
        "X_train_p, Y_train_p = preprocess_data2(X_train, Y_train)\n",
        "X_test_p, Y_test_p = preprocess_data2(X_test, Y_test)\n",
        "#'''"
      ]
    },
    {
      "cell_type": "code",
      "source": [
        "# Sanity check of the shape of the preprocessed data, datapoints statistics,\n",
        "# and labels if its turned into one-hot encoding\n",
        "print(X_train_p.shape, Y_train_p.shape)\n",
        "print(X_test_p.shape, Y_test_p.shape)\n",
        "print('number of classes:',num_class:=Y_train_p.shape[1])\n",
        "print('first 5 labels:\\n', Y_train_p[:5],'\\n')\n",
        "print('max, and min of the datapoints:', X_train_p.max(), X_train_p.min())"
      ],
      "metadata": {
        "colab": {
          "base_uri": "https://localhost:8080/"
        },
        "id": "Ubq8U2-R1SPa",
        "outputId": "59175ec1-3a8f-4869-ae9e-4c09659dc1da"
      },
      "execution_count": 12,
      "outputs": [
        {
          "output_type": "stream",
          "name": "stdout",
          "text": [
            "(50000, 32, 32, 3) (50000, 10)\n",
            "(10000, 32, 32, 3) (10000, 10)\n",
            "number of classes: 10\n",
            "first 5 labels:\n",
            " [[0. 0. 0. 0. 0. 0. 1. 0. 0. 0.]\n",
            " [0. 0. 0. 0. 0. 0. 0. 0. 0. 1.]\n",
            " [0. 0. 0. 0. 0. 0. 0. 0. 0. 1.]\n",
            " [0. 0. 0. 0. 1. 0. 0. 0. 0. 0.]\n",
            " [0. 1. 0. 0. 0. 0. 0. 0. 0. 0.]] \n",
            "\n",
            "max, and min of the datapoints: 151.061 -123.68\n"
          ]
        }
      ]
    },
    {
      "cell_type": "markdown",
      "metadata": {
        "id": "269l5JJ9Nir6"
      },
      "source": [
        "> **Requirement**: Model Selection and Modification: Choose a pretrained model (e.g., ResNet, VGG16) and modify it for CIFAR-10 classification. Describe how you adapt the model for the 10 classes of CIFAR-10 (e.g., modifying the top layer, adjusting input size)."
      ]
    },
    {
      "cell_type": "markdown",
      "source": [
        "> why is `modifying the top layer` my approach?\n",
        "- The images in CIFAR-10 are generally simple and has lesser variability to ImageNet. The objects like planes, cars, birds, etc are generally centered and occupies a large portion of the frame. The images used to train ResNet50 were  under data augmentation which would have a broader and diverse/complexity captured. Since the new CIFAR10 dataset is much smaller or less diverse, can leverage the model to using pre-learned features (shapes, curves, lines, edges etc). But we will try out and see various architectures experimentation before deciding to fine tune or not. If it is suffice, will not fine-tune (unfreezing some layers) and train as a whole as it is computationally expensive in google colab"
      ],
      "metadata": {
        "id": "6GiJOB-X3zTS"
      }
    },
    {
      "cell_type": "markdown",
      "metadata": {
        "id": "14EmseU3Nir6"
      },
      "source": [
        "> To use ResNet50 pretrained on ImageNet dataset as a feature extractor\n",
        "- To **remove** the final layer of ResNet50 that is used to classify for the ImageNet data, aka base_model (without top layer) : serves as a feature extractor\n",
        "- To add a dense layer with 10 classes with softmax activations because the original classifier has 1000 classes (from ImageNet)\n",
        "- To freeze all the prior layers of ResNet50, and perform transfer learning on the layer(s) added to adapt to learning how to classify the CIFAR10 images\n",
        "- Stacking: Add upscaling of CIFAR10 images (32x32x3) to match the spatial dimension of ResNet50 (224x224x3) as it was trained on ImageNet 224x224x3 images -> ResNet50 as base model -> added layer(s)"
      ]
    },
    {
      "cell_type": "code",
      "execution_count": 13,
      "metadata": {
        "id": "FctWxZa5mZi1"
      },
      "outputs": [],
      "source": [
        "# Load ResNet50 model without the top layer\n",
        "base_model = tf.keras.applications.ResNet50(include_top=False,\n",
        "                                            weights='imagenet',\n",
        "                                            input_shape=(224, 224, 3))\n",
        "base_model.trainable = False  # Freeze ResNet50 layers"
      ]
    },
    {
      "cell_type": "markdown",
      "metadata": {
        "id": "4qceIumJNir6"
      },
      "source": [
        "> **Model 1 architecture**: Upscaling -> Base Model (ResNet50) -> Flatten -> Dense layer with Softmax Activation (Classifier)"
      ]
    },
    {
      "cell_type": "code",
      "execution_count": 14,
      "metadata": {
        "id": "vTLewkX7Nir7"
      },
      "outputs": [],
      "source": [
        "# Build the model1\n",
        "model1 = models.Sequential([\n",
        "    # Upscale images\n",
        "    layers.experimental.preprocessing.Resizing(224, 224, interpolation=\"bilinear\"),\n",
        "    # Add the pre-trained ResNet50 base model\n",
        "    base_model,\n",
        "    # Add custom layers on top\n",
        "    layers.Flatten(),\n",
        "    layers.Dense(10, activation='softmax')  # For CIFAR-10 classes\n",
        "])"
      ]
    },
    {
      "cell_type": "code",
      "execution_count": 15,
      "metadata": {
        "colab": {
          "base_uri": "https://localhost:8080/",
          "height": 53
        },
        "id": "lMhW7XbiNir7",
        "outputId": "de4c4fe1-91df-49b9-c146-190c7ab52dd8"
      },
      "outputs": [
        {
          "output_type": "stream",
          "name": "stderr",
          "text": [
            "WARNING:absl:`lr` is deprecated in Keras optimizer, please use `learning_rate` or use the legacy optimizer, e.g.,tf.keras.optimizers.legacy.SGD.\n"
          ]
        },
        {
          "output_type": "execute_result",
          "data": {
            "text/plain": [
              "'\\n# Describe the model architecture and params for sanity check\\nmodel1.summary()\\n'"
            ],
            "application/vnd.google.colaboratory.intrinsic+json": {
              "type": "string"
            }
          },
          "metadata": {},
          "execution_count": 15
        }
      ],
      "source": [
        "# Compile the model1\n",
        "model1.compile(optimizer=optimizers.SGD(lr=0.001),\n",
        "              loss='categorical_crossentropy',\n",
        "              metrics=['accuracy'])\n",
        "\n",
        "'''\n",
        "# Describe the model architecture and params for sanity check\n",
        "model1.summary()\n",
        "'''"
      ]
    },
    {
      "cell_type": "code",
      "execution_count": 16,
      "metadata": {
        "colab": {
          "base_uri": "https://localhost:8080/"
        },
        "id": "3qS_qZV_Nir7",
        "outputId": "4a8a54ea-247e-41ab-e55d-16084803452c"
      },
      "outputs": [
        {
          "output_type": "stream",
          "name": "stdout",
          "text": [
            "Epoch 1/5\n",
            "391/391 [==============================] - 186s 467ms/step - loss: 6.6056 - accuracy: 0.8401 - val_loss: 3.9673 - val_accuracy: 0.8560\n",
            "Epoch 2/5\n",
            "391/391 [==============================] - 177s 453ms/step - loss: 1.3011 - accuracy: 0.9262 - val_loss: 2.1307 - val_accuracy: 0.8943\n",
            "Epoch 3/5\n",
            "391/391 [==============================] - 163s 416ms/step - loss: 0.5988 - accuracy: 0.9542 - val_loss: 2.1006 - val_accuracy: 0.9016\n",
            "Epoch 4/5\n",
            "391/391 [==============================] - 176s 450ms/step - loss: 0.2152 - accuracy: 0.9760 - val_loss: 1.6603 - val_accuracy: 0.9107\n",
            "Epoch 5/5\n",
            "391/391 [==============================] - 163s 417ms/step - loss: 0.1177 - accuracy: 0.9861 - val_loss: 1.6524 - val_accuracy: 0.9113\n"
          ]
        },
        {
          "output_type": "execute_result",
          "data": {
            "text/plain": [
              "<keras.src.callbacks.History at 0x7fc1ae4e3640>"
            ]
          },
          "metadata": {},
          "execution_count": 16
        }
      ],
      "source": [
        "# Train the model\n",
        "model1.fit(X_train_p, Y_train_p, batch_size=128, epochs=5,\n",
        "          validation_data=(X_test_p, Y_test_p))"
      ]
    },
    {
      "cell_type": "markdown",
      "metadata": {
        "id": "PYlJi8ClNir7"
      },
      "source": [
        "> **Model1 Evaluation & Mitigation Proposal **: Observed that the model is overfitting quite badly from epoch 2/3 onwards as the gap between train acc and test acc is widening. Upon research, decided to use Global Average Pooling (GAP)to find the precense of a global feature across all 3 channels, preserving spatial information to more meaningful, instead of purely just flattening before feeding it into the classifier (softmax). As a result of reducing the number of parameters, this can help prevent overfitting through the dimension reduction\n",
        "\n",
        "> Reference: https://stackabuse.com/dont-use-flatten-global-pooling-for-cnns-with-tensorflow-and-keras/ , https://paperswithcode.com/method/global-average-pooling#:~:text=Global%20Average%20Pooling%20is%20a%20pooling%20operation%20designed,the%20classification%20task%20in%20the%20last%20mlpconv%20layer."
      ]
    },
    {
      "cell_type": "markdown",
      "metadata": {
        "id": "IuMwoDv8Nir7"
      },
      "source": [
        "> **Model2 Architecture**: Upscaling -> Base Model (ResNet50) / without top classification layer -> `Global Average Pooling` -> Fully Connected Layer with Softmax Activation (Classifier)"
      ]
    },
    {
      "cell_type": "code",
      "execution_count": 18,
      "metadata": {
        "id": "QtSYa20RNir7"
      },
      "outputs": [],
      "source": [
        "# Build the model2\n",
        "model2 = models.Sequential([\n",
        "    # Upscale images\n",
        "    layers.experimental.preprocessing.Resizing(224, 224, interpolation=\"bilinear\"),\n",
        "    # Add the pre-trained ResNet50 base model\n",
        "    base_model,\n",
        "    # Add custom layers on top\n",
        "    layers.GlobalAveragePooling2D(),\n",
        "    layers.Dense(10, activation='softmax')  # For CIFAR-10 classes\n",
        "])"
      ]
    },
    {
      "cell_type": "code",
      "execution_count": 19,
      "metadata": {
        "colab": {
          "base_uri": "https://localhost:8080/"
        },
        "id": "1auh0exDNir7",
        "outputId": "a88233cc-6a8f-404e-edb0-74876cdff8e4"
      },
      "outputs": [
        {
          "output_type": "stream",
          "name": "stderr",
          "text": [
            "WARNING:absl:`lr` is deprecated in Keras optimizer, please use `learning_rate` or use the legacy optimizer, e.g.,tf.keras.optimizers.legacy.SGD.\n"
          ]
        }
      ],
      "source": [
        "# Compile the model2\n",
        "model2.compile(optimizer=optimizers.SGD(lr=0.001),\n",
        "              loss='categorical_crossentropy',\n",
        "              metrics=['accuracy'])"
      ]
    },
    {
      "cell_type": "code",
      "execution_count": 20,
      "metadata": {
        "colab": {
          "base_uri": "https://localhost:8080/"
        },
        "id": "OMtgjTtyNir7",
        "outputId": "646ccf63-c127-43e1-dfe9-0f1a8a054072"
      },
      "outputs": [
        {
          "output_type": "stream",
          "name": "stdout",
          "text": [
            "Epoch 1/5\n",
            "391/391 [==============================] - 182s 457ms/step - loss: 0.5833 - accuracy: 0.8085 - val_loss: 0.4186 - val_accuracy: 0.8601\n",
            "Epoch 2/5\n",
            "391/391 [==============================] - 177s 452ms/step - loss: 0.3638 - accuracy: 0.8762 - val_loss: 0.3695 - val_accuracy: 0.8745\n",
            "Epoch 3/5\n",
            "391/391 [==============================] - 162s 415ms/step - loss: 0.3264 - accuracy: 0.8895 - val_loss: 0.3390 - val_accuracy: 0.8866\n",
            "Epoch 4/5\n",
            "391/391 [==============================] - 176s 449ms/step - loss: 0.3049 - accuracy: 0.8953 - val_loss: 0.3256 - val_accuracy: 0.8922\n",
            "Epoch 5/5\n",
            "391/391 [==============================] - 177s 452ms/step - loss: 0.2903 - accuracy: 0.9014 - val_loss: 0.3207 - val_accuracy: 0.8931\n"
          ]
        },
        {
          "output_type": "execute_result",
          "data": {
            "text/plain": [
              "<keras.src.callbacks.History at 0x7fc276f0e800>"
            ]
          },
          "metadata": {},
          "execution_count": 20
        }
      ],
      "source": [
        "# Train the model2\n",
        "# will just start small with 5 epochs\n",
        "model2.fit(X_train_p, Y_train_p, batch_size=128, epochs=5,\n",
        "          validation_data=(X_test_p, Y_test_p))"
      ]
    },
    {
      "cell_type": "markdown",
      "metadata": {
        "id": "iI4ozeP5Nir8"
      },
      "source": [
        "> **Model 2 evauation** : Improved performance with using GAP but unable to hit 90%. Seems promising with a longer epochs used. Will also incorporate early stopping with specified longer epochs."
      ]
    },
    {
      "cell_type": "markdown",
      "metadata": {
        "id": "ohFrMwxJNir8"
      },
      "source": [
        "> **Model 2+ architecture**: Upscaling -> Base Model (ResNet50) / without top classification layer -> Global Average Pooling -> Fully Connected Layer with Softmax Activation (Classifier)\n",
        "\n",
        "> Longer Epochs used with early stopping on validation accuracy being monitored. Used default hyperparameters `min_delta=0.01` and `patience=3`, `epoch=10`\n",
        "\n",
        "> while increasing hard fix of epoch=10 would indefinitely and possibly raise the accuracy, but it requires much more computational resources (means $ in google colab), here i will perform second stage of training by continuing from **last state**"
      ]
    },
    {
      "cell_type": "code",
      "execution_count": 21,
      "metadata": {
        "id": "zwPywf8PmbHI"
      },
      "outputs": [],
      "source": [
        "# initialise the EarlyStopping callback\n",
        "early_stopping = EarlyStopping(monitor='val_accuracy', min_delta=0.01, patience=3, verbose=1, mode='max', restore_best_weights=True)\n",
        "\n",
        "# Define the ModelCheckpoint callback\n",
        "model_checkpoint = ModelCheckpoint('best_resnet50_variant_CIFAR10.h5', monitor='val_accuracy', save_best_only=True, mode='max', verbose=1)"
      ]
    },
    {
      "cell_type": "code",
      "execution_count": 22,
      "metadata": {
        "colab": {
          "base_uri": "https://localhost:8080/"
        },
        "id": "7Kr4KZGMmduo",
        "outputId": "d357ff3e-d8ab-4bb4-afb8-ea39d6b59734"
      },
      "outputs": [
        {
          "output_type": "stream",
          "name": "stdout",
          "text": [
            "Epoch 1/10\n",
            "391/391 [==============================] - ETA: 0s - loss: 0.2792 - accuracy: 0.9049\n",
            "Epoch 1: val_accuracy improved from -inf to 0.89590, saving model to best_resnet50_variant_CIFAR10.h5\n"
          ]
        },
        {
          "output_type": "stream",
          "name": "stderr",
          "text": [
            "/usr/local/lib/python3.10/dist-packages/keras/src/engine/training.py:3103: UserWarning: You are saving your model as an HDF5 file via `model.save()`. This file format is considered legacy. We recommend using instead the native Keras format, e.g. `model.save('my_model.keras')`.\n",
            "  saving_api.save_model(\n"
          ]
        },
        {
          "output_type": "stream",
          "name": "stdout",
          "text": [
            "\b\b\b\b\b\b\b\b\b\b\b\b\b\b\b\b\b\b\b\b\b\b\b\b\b\b\b\b\b\b\b\b\b\b\b\b\b\b\b\b\b\b\b\b\b\b\b\b\b\b\b\b\b\b\b\b\b\b\b\b\b\b\b\b\b\b\b\b\b\b\b\b\b\b\b\b\b\b\b\b\b\b\b\b\r391/391 [==============================] - 164s 420ms/step - loss: 0.2792 - accuracy: 0.9049 - val_loss: 0.3156 - val_accuracy: 0.8959\n",
            "Epoch 2/10\n",
            "391/391 [==============================] - ETA: 0s - loss: 0.2708 - accuracy: 0.9080\n",
            "Epoch 2: val_accuracy improved from 0.89590 to 0.90010, saving model to best_resnet50_variant_CIFAR10.h5\n",
            "391/391 [==============================] - 176s 450ms/step - loss: 0.2708 - accuracy: 0.9080 - val_loss: 0.3030 - val_accuracy: 0.9001\n",
            "Epoch 3/10\n",
            "391/391 [==============================] - ETA: 0s - loss: 0.2629 - accuracy: 0.9109\n",
            "Epoch 3: val_accuracy did not improve from 0.90010\n",
            "391/391 [==============================] - 177s 452ms/step - loss: 0.2629 - accuracy: 0.9109 - val_loss: 0.3046 - val_accuracy: 0.8950\n",
            "Epoch 4/10\n",
            "391/391 [==============================] - ETA: 0s - loss: 0.2562 - accuracy: 0.9130Restoring model weights from the end of the best epoch: 1.\n",
            "\n",
            "Epoch 4: val_accuracy did not improve from 0.90010\n",
            "391/391 [==============================] - 177s 452ms/step - loss: 0.2562 - accuracy: 0.9130 - val_loss: 0.2972 - val_accuracy: 0.9001\n",
            "Epoch 4: early stopping\n"
          ]
        }
      ],
      "source": [
        "# fit and train the model2 with the callbacks\n",
        "history = model2.fit(X_train_p, Y_train_p, batch_size=128, epochs=10,\n",
        "                     validation_data=(X_test_p, Y_test_p),\n",
        "                     callbacks=[early_stopping, model_checkpoint])"
      ]
    },
    {
      "cell_type": "code",
      "source": [
        "acc = history.history['accuracy']\n",
        "val_acc = history.history['val_accuracy']\n",
        "loss = history.history['loss']\n",
        "val_loss = history.history['val_loss']\n",
        "epochs = range(1, len(acc) + 1)\n",
        "\n",
        "# accuracy plot\n",
        "plt.plot(epochs, acc, 'bo', label='Training accuracy')\n",
        "plt.plot(epochs, val_acc, 'b', label='Validation accuracy')\n",
        "plt.title('Training and Validation Accuracy')\n",
        "plt.legend()\n",
        "\n",
        "plt.figure()\n",
        "\n",
        "# loss plot\n",
        "plt.plot(epochs, loss, 'bo', label='Training loss')\n",
        "plt.plot(epochs, val_loss, 'b', label='Validation loss')\n",
        "plt.title('Training and Validation Loss')\n",
        "plt.legend()\n",
        "\n",
        "plt.show()"
      ],
      "metadata": {
        "colab": {
          "base_uri": "https://localhost:8080/",
          "height": 887
        },
        "id": "gGbHDQLYhPf1",
        "outputId": "b2cbc4b2-15b2-4126-8e99-daf80062a81c"
      },
      "execution_count": 23,
      "outputs": [
        {
          "output_type": "display_data",
          "data": {
            "text/plain": [
              "<Figure size 640x480 with 1 Axes>"
            ],
            "image/png": "[encoded data removed]"
          },
          "metadata": {}
        },
        {
          "output_type": "display_data",
          "data": {
            "text/plain": [
              "<Figure size 640x480 with 1 Axes>"
            ],
            "image/png": "[encoded data removed]"
          },
          "metadata": {}
        }
      ]
    },
    {
      "cell_type": "markdown",
      "metadata": {
        "id": "CCI6KbZrNir8"
      },
      "source": [
        "*stop* here ------"
      ]
    }
  ],
  "metadata": {
    "accelerator": "GPU",
    "colab": {
      "gpuType": "T4",
      "provenance": []
    },
    "kernelspec": {
      "display_name": "Python 3",
      "name": "python3"
    },
    "language_info": {
      "codemirror_mode": {
        "name": "ipython",
        "version": 3
      },
      "file_extension": ".py",
      "mimetype": "text/x-python",
      "name": "python",
      "nbconvert_exporter": "python",
      "pygments_lexer": "ipython3",
      "version": "3.11.3"
    }
  },
  "nbformat": 4,
  "nbformat_minor": 0
}